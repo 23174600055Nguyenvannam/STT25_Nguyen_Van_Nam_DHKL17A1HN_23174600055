{
 "cells": [
  {
   "cell_type": "code",
   "execution_count": 1,
   "metadata": {},
   "outputs": [],
   "source": [
    "import numpy as np "
   ]
  },
  {
   "cell_type": "code",
   "execution_count": 6,
   "metadata": {},
   "outputs": [
    {
     "data": {
      "text/plain": [
       "array([17.49, 21.86, 19.06, 21.62, 26.63, 18.69, 22.88, 23.79, 31.88,\n",
       "       31.73, 20.38, 17.96, 16.73, 24.2 , 20.95, 25.38, 32.94, 15.95,\n",
       "       20.11, 17.37, 19.33, 22.93, 15.76, 18.85, 27.02, 17.22, 20.47,\n",
       "       30.64, 27.43, 34.58])"
      ]
     },
     "execution_count": 6,
     "metadata": {},
     "output_type": "execute_result"
    }
   ],
   "source": [
    "list= np.round(np.random.uniform(15,35,30),2)\n",
    "list\n"
   ]
  },
  {
   "cell_type": "code",
   "execution_count": 7,
   "metadata": {},
   "outputs": [
    {
     "data": {
      "text/plain": [
       "np.float64(22.727666666666668)"
      ]
     },
     "execution_count": 7,
     "metadata": {},
     "output_type": "execute_result"
    }
   ],
   "source": [
    "# nhiệt độ trung bình \n",
    "mean = np.mean(list)\n",
    "mean"
   ]
  },
  {
   "cell_type": "code",
   "execution_count": 12,
   "metadata": {},
   "outputs": [
    {
     "name": "stdout",
     "output_type": "stream",
     "text": [
      "Day with highest temperature: Day 30\n",
      "Day with lowest temperature: Day 23\n",
      "Day with the greatest temperature change: Day 17\n"
     ]
    }
   ],
   "source": [
    "max_temp_day = np.argmax(list) + 1  # +1 vì chỉ số bắt đầu từ 0\n",
    "min_temp_day = np.argmin(list) + 1\n",
    "\n",
    "# Tính sự chênh lệch giữa các ngày liên tiếp\n",
    "temp_diff = np.abs(np.diff(list))\n",
    "max_diff_day = np.argmax(temp_diff) + 1  # Ngày có sự thay đổi nhiệt độ lớn nhất\n",
    "\n",
    "print(f\"Day with highest temperature: Day {max_temp_day}\")\n",
    "print(f\"Day with lowest temperature: Day {min_temp_day}\")\n",
    "print(f\"Day with the greatest temperature change: Day {max_diff_day}\")"
   ]
  },
  {
   "cell_type": "code",
   "execution_count": 10,
   "metadata": {},
   "outputs": [
    {
     "data": {
      "text/plain": [
       "np.int64(23)"
      ]
     },
     "execution_count": 10,
     "metadata": {},
     "output_type": "execute_result"
    }
   ],
   "source": [
    "thap_nhat = np.argmin(list)+1\n",
    "thap_nhat"
   ]
  },
  {
   "cell_type": "markdown",
   "metadata": {},
   "source": [
    "nhiệt độ cao nhất \n"
   ]
  },
  {
   "cell_type": "code",
   "execution_count": 16,
   "metadata": {},
   "outputs": [
    {
     "data": {
      "text/plain": [
       "array([21.86, 21.62, 26.63, 22.88, 23.79, 31.88, 31.73, 20.38, 24.2 ,\n",
       "       20.95, 25.38, 32.94, 20.11, 22.93, 27.02, 20.47, 30.64, 27.43,\n",
       "       34.58])"
      ]
     },
     "execution_count": 16,
     "metadata": {},
     "output_type": "execute_result"
    }
   ],
   "source": [
    "nhiet_do_cao_hon_20 = list[list>20] \n",
    "nhiet_do_cao_hon_20"
   ]
  },
  {
   "cell_type": "code",
   "execution_count": 19,
   "metadata": {},
   "outputs": [
    {
     "name": "stdout",
     "output_type": "stream",
     "text": [
      "Nhiệt độ của ngày 5 là  26.63\n",
      "Nhiệt độ của ngày 10 là 31.73\n",
      "Nhiệt độ của ngày 15 là 20.95\n",
      "Nhiệt độ của ngày 20 là 25.38\n",
      "Nhiệt độ của ngày 25 là 27.02\n"
     ]
    }
   ],
   "source": [
    "print(\"Nhiệt độ của ngày 5 là \", list[4])\n",
    "print(\"Nhiệt độ của ngày 10 là\", list[9])\n",
    "print(\"Nhiệt độ của ngày 15 là\", list[14])\n",
    "print(\"Nhiệt độ của ngày 20 là\", list[15])\n",
    "print(\"Nhiệt độ của ngày 25 là\", list[24])"
   ]
  },
  {
   "cell_type": "code",
   "execution_count": 21,
   "metadata": {},
   "outputs": [
    {
     "data": {
      "text/plain": [
       "array([26.63, 22.88, 23.79, 31.88, 31.73, 24.2 , 25.38, 32.94, 22.93,\n",
       "       27.02, 30.64, 27.43, 34.58])"
      ]
     },
     "execution_count": 21,
     "metadata": {},
     "output_type": "execute_result"
    }
   ],
   "source": [
    "# các ngày có nhiệt độ trên trung bình là \n",
    "nhiet_do = list[list > mean]\n",
    "nhiet_do"
   ]
  },
  {
   "cell_type": "code",
   "execution_count": 22,
   "metadata": {},
   "outputs": [
    {
     "name": "stdout",
     "output_type": "stream",
     "text": [
      "nhiệt độ của ngày chẵn là [17.49 19.06 26.63 22.88 31.88 20.38 16.73 20.95 32.94 20.11 19.33 15.76\n",
      " 27.02 20.47 27.43]\n",
      "Nhiệt độ của ngày lẻ là: [21.86 21.62 18.69 23.79 31.73 17.96 24.2  25.38 15.95 17.37 22.93 18.85\n",
      " 17.22 30.64 34.58]\n"
     ]
    }
   ],
   "source": [
    "print(\"nhiệt độ của ngày chẵn là\", list[::2])\n",
    "print(\"Nhiệt độ của ngày lẻ là:\", list[1::2])"
   ]
  },
  {
   "cell_type": "code",
   "execution_count": null,
   "metadata": {},
   "outputs": [],
   "source": []
  }
 ],
 "metadata": {
  "kernelspec": {
   "display_name": "Python 3",
   "language": "python",
   "name": "python3"
  },
  "language_info": {
   "codemirror_mode": {
    "name": "ipython",
    "version": 3
   },
   "file_extension": ".py",
   "mimetype": "text/x-python",
   "name": "python",
   "nbconvert_exporter": "python",
   "pygments_lexer": "ipython3",
   "version": "3.11.9"
  }
 },
 "nbformat": 4,
 "nbformat_minor": 2
}
