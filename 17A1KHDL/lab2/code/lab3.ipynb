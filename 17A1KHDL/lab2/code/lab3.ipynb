{
 "cells": [
  {
   "cell_type": "code",
   "execution_count": 18,
   "metadata": {},
   "outputs": [],
   "source": [
    "import numpy as np \n"
   ]
  },
  {
   "cell_type": "code",
   "execution_count": 19,
   "metadata": {},
   "outputs": [
    {
     "name": "stdout",
     "output_type": "stream",
     "text": [
      "du lieu cua efficiency la:  int64\n",
      "kieu du lieu cua shift la:  <U9\n"
     ]
    }
   ],
   "source": [
    "with open(r'D:\\text\\data\\efficiency.txt','r',encoding='utf-8-sig') as file:\n",
    "    lst = []\n",
    "    for i in file:\n",
    "        data = i.strip()\n",
    "        lst.append(data)\n",
    "efficiency = np.array(lst,dtype= int)\n",
    "print(\"du lieu cua efficiency la: \",efficiency.dtype)\n",
    "\n",
    "with open(r'D:\\text\\data\\shifts.txt','r',encoding='UTF-8') as file:\n",
    "    danhsach = []\n",
    "    for i in file:\n",
    "        data = i.strip().replace(' ','')\n",
    "        danhsach.append(data)\n",
    "shift = np.array(danhsach)\n",
    "print(\"kieu du lieu cua shift la: \",shift.dtype)"
   ]
  },
  {
   "cell_type": "code",
   "execution_count": 22,
   "metadata": {},
   "outputs": [
    {
     "name": "stdout",
     "output_type": "stream",
     "text": [
      "Kiểu dữ liệu của np_shifts là:  <U9\n"
     ]
    }
   ],
   "source": [
    "np_shifts = np.array(shift)\n",
    "print(\"Kiểu dữ liệu của np_shifts là: \", np_shifts.dtype)"
   ]
  },
  {
   "cell_type": "code",
   "execution_count": 23,
   "metadata": {},
   "outputs": [
    {
     "name": "stdout",
     "output_type": "stream",
     "text": [
      "Kiểu dữ liệu của np_efficiency là:  int64\n"
     ]
    }
   ],
   "source": [
    "np_efficiency = np.array(efficiency)\n",
    "print(\"Kiểu dữ liệu của np_efficiency là: \", np_efficiency.dtype)"
   ]
  },
  {
   "cell_type": "code",
   "execution_count": 24,
   "metadata": {},
   "outputs": [
    {
     "name": "stdout",
     "output_type": "stream",
     "text": [
      "Hiệu suất sản xuất trung bình của ca 'Morning' là:  96.8529411764706\n"
     ]
    }
   ],
   "source": [
    "morning_efficiency = np_efficiency[np_shifts == 'Morning']\n",
    "average_morning_efficiency = np.mean(morning_efficiency)\n",
    "print(\"Hiệu suất sản xuất trung bình của ca 'Morning' là: \", average_morning_efficiency)"
   ]
  },
  {
   "cell_type": "code",
   "execution_count": 25,
   "metadata": {},
   "outputs": [
    {
     "name": "stdout",
     "output_type": "stream",
     "text": [
      "Hiệu suất sản xuất trung bình của các ca khác (Không phải 'Morning') là:  98.93939393939394\n"
     ]
    }
   ],
   "source": [
    "other_shifts_efficiency = np_efficiency[np_shifts != 'Morning']\n",
    "average_other_shifts_efficiency = np.mean(other_shifts_efficiency)\n",
    "print(\"Hiệu suất sản xuất trung bình của các ca khác (Không phải 'Morning') là: \", average_other_shifts_efficiency)"
   ]
  }
 ],
 "metadata": {
  "kernelspec": {
   "display_name": "Python 3",
   "language": "python",
   "name": "python3"
  },
  "language_info": {
   "codemirror_mode": {
    "name": "ipython",
    "version": 3
   },
   "file_extension": ".py",
   "mimetype": "text/x-python",
   "name": "python",
   "nbconvert_exporter": "python",
   "pygments_lexer": "ipython3",
   "version": "3.11.9"
  }
 },
 "nbformat": 4,
 "nbformat_minor": 2
}
