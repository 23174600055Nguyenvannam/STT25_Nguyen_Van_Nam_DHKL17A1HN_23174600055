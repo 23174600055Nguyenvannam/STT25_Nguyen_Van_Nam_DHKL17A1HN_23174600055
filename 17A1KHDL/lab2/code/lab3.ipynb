{
 "cells": [
  {
   "cell_type": "code",
   "execution_count": 3,
   "metadata": {},
   "outputs": [],
   "source": [
    "import numpy as np \n"
   ]
  },
  {
   "cell_type": "code",
   "execution_count": 6,
   "metadata": {},
   "outputs": [
    {
     "ename": "ValueError",
     "evalue": "invalid literal for int() with base 10: 'Afternoon'",
     "output_type": "error",
     "traceback": [
      "\u001b[1;31m---------------------------------------------------------------------------\u001b[0m",
      "\u001b[1;31mValueError\u001b[0m                                Traceback (most recent call last)",
      "Cell \u001b[1;32mIn[6], line 14\u001b[0m\n\u001b[0;32m     12\u001b[0m         data \u001b[38;5;241m=\u001b[39m i\u001b[38;5;241m.\u001b[39mstrip()\u001b[38;5;241m.\u001b[39mreplace(\u001b[38;5;124m'\u001b[39m\u001b[38;5;124m \u001b[39m\u001b[38;5;124m'\u001b[39m,\u001b[38;5;124m'\u001b[39m\u001b[38;5;124m'\u001b[39m)\n\u001b[0;32m     13\u001b[0m         \u001b[38;5;28mlist\u001b[39m\u001b[38;5;241m.\u001b[39mappend(data)\n\u001b[1;32m---> 14\u001b[0m shift\u001b[38;5;241m=\u001b[39m \u001b[43mnp\u001b[49m\u001b[38;5;241;43m.\u001b[39;49m\u001b[43marray\u001b[49m\u001b[43m(\u001b[49m\u001b[38;5;28;43mlist\u001b[39;49m\u001b[43m,\u001b[49m\u001b[43m \u001b[49m\u001b[43mdtype\u001b[49m\u001b[38;5;241;43m=\u001b[39;49m\u001b[38;5;28;43mint\u001b[39;49m\u001b[43m)\u001b[49m\n\u001b[0;32m     15\u001b[0m shift\u001b[38;5;241m.\u001b[39mdtype\n",
      "\u001b[1;31mValueError\u001b[0m: invalid literal for int() with base 10: 'Afternoon'"
     ]
    }
   ],
   "source": [
    "with open(r'D:\\text\\data\\efficiency.txt', 'r' ,encoding='utf-8') as file:\n",
    "    list = []\n",
    "    for i in file:\n",
    "        data = i.strip()\n",
    "        list.append(data)\n",
    "efficiency = np.array(list, dtype=int)\n",
    "efficiency.dtype\n",
    "\n",
    "with open(r'D:\\text\\data\\shifts.txt', 'r' ,encoding='utf-8') as file:\n",
    "    list = []\n",
    "    for i in file:\n",
    "        data = i.strip().replace(' ','')\n",
    "        list.append(data)\n",
    "shift= np.array(list, dtype=int)\n",
    "shift.dtype\n",
    "\n"
   ]
  }
 ],
 "metadata": {
  "kernelspec": {
   "display_name": "Python 3",
   "language": "python",
   "name": "python3"
  },
  "language_info": {
   "codemirror_mode": {
    "name": "ipython",
    "version": 3
   },
   "file_extension": ".py",
   "mimetype": "text/x-python",
   "name": "python",
   "nbconvert_exporter": "python",
   "pygments_lexer": "ipython3",
   "version": "3.11.9"
  }
 },
 "nbformat": 4,
 "nbformat_minor": 2
}
