{
 "cells": [
  {
   "cell_type": "code",
   "execution_count": 86,
   "metadata": {},
   "outputs": [],
   "source": [
    "import numpy as np\n",
    "import csv"
   ]
  },
  {
   "cell_type": "code",
   "execution_count": 87,
   "metadata": {},
   "outputs": [
    {
     "data": {
      "text/plain": [
       "array([['id', 'Tên sinh viên', 'HP 1', 'HP 2', 'HP 3'],\n",
       "       ['1', 'Nguyễn Văn Bình', '3.04', '3.39', '6.7'],\n",
       "       ['2', 'Lê Thị Na', '5.8', '6.41', '6.62'],\n",
       "       ['3', 'Trần Văn Thành', '2.59', '3.57', '9.16'],\n",
       "       ['4', 'Phạm Thị Hồng', '3.81', '8.78', '9.24'],\n",
       "       ['5', 'Bùi Văn An', '8.91', '9.64', '6.39'],\n",
       "       ['6', 'Hoàng Thị Lan', '3.23', '4.72', '6.17'],\n",
       "       ['7', 'Vũ Văn Hùng', '2.35', '3.29', '6.89'],\n",
       "       ['8', 'Đặng Thị Mai', '2.48', '3.81', '4.84'],\n",
       "       ['9', 'Đỗ Văn Hải', '3.23', '2.61', '4.52'],\n",
       "       ['10', 'Ngô Thị Thanh', '7.02', '9.01', '9.15'],\n",
       "       ['11', 'Lương Văn Dũng', '2.29', '4.48', '5.51'],\n",
       "       ['12', 'Mai Thị Hằng', '3.51', '7.19', '5.13'],\n",
       "       ['13', 'Dương Văn Long', '6.74', '7.78', '6.19'],\n",
       "       ['14', 'Nguyễn Thị Hà', '9.86', '4.64', '3.33'],\n",
       "       ['15', 'Trần Văn Tuấn', '8.04', '5.12', '4.77'],\n",
       "       ['16', 'Lê Văn Phúc', '2.74', '8.88', '5.8'],\n",
       "       ['17', 'Phạm Thị Nhung', '3.04', '6.88', '3.91'],\n",
       "       ['18', 'Hoàng Văn Nam', '5.87', '4.41', '8.84'],\n",
       "       ['19', 'Bùi Thị Lan', '8.46', '2.63', '4.91'],\n",
       "       ['20', 'Vũ Thị Thanh', '3.74', '6.71', '3.44'],\n",
       "       ['21', 'Đặng Văn Hùng', '5.67', '8.05', '6.03'],\n",
       "       ['22', 'Đỗ Thị Hồng', '8.12', '2.46', '3.87'],\n",
       "       ['23', 'Ngô Văn Thành', '9.4', '5.31', '5.13'],\n",
       "       ['24', 'Lương Thị Mai', '3.91', '5.09', '8.82'],\n",
       "       ['25', 'Mai Văn Dũng', '4.26', '5.78', '8.14'],\n",
       "       ['26', 'Dương Thị Hằng', '4.41', '2.66', '5.4'],\n",
       "       ['27', 'Nguyễn Văn Long', '3.23', '8.3', '8.64'],\n",
       "       ['28', 'Trần Thị Hà', '9.25', '8.29', '9.1'],\n",
       "       ['29', 'Lê Văn Tuấn', '6.08', '2.67', '6.39'],\n",
       "       ['30', 'Phạm Thị Phúc', '3.85', '7.71', '5.75']], dtype='<U15')"
      ]
     },
     "execution_count": 87,
     "metadata": {},
     "output_type": "execute_result"
    }
   ],
   "source": [
    "with open(r'D:\\text\\data\\diem_hoc_phan.csv', 'r', encoding='utf-8') as file:\n",
    "    files = csv.reader(file)\n",
    "    data = [row for row in files]\n",
    "\n",
    "# Bước 2: Chuyển đổi dữ liệu thành mảng NumPy\n",
    "arr = np.array(data)\n",
    "arr"
   ]
  },
  {
   "cell_type": "code",
   "execution_count": 98,
   "metadata": {},
   "outputs": [
    {
     "data": {
      "text/plain": [
       "array([[3.04, 3.39, 6.7 ],\n",
       "       [5.8 , 6.41, 6.62],\n",
       "       [2.59, 3.57, 9.16],\n",
       "       [3.81, 8.78, 9.24],\n",
       "       [8.91, 9.64, 6.39],\n",
       "       [3.23, 4.72, 6.17],\n",
       "       [2.35, 3.29, 6.89],\n",
       "       [2.48, 3.81, 4.84],\n",
       "       [3.23, 2.61, 4.52],\n",
       "       [7.02, 9.01, 9.15],\n",
       "       [2.29, 4.48, 5.51],\n",
       "       [3.51, 7.19, 5.13],\n",
       "       [6.74, 7.78, 6.19],\n",
       "       [9.86, 4.64, 3.33],\n",
       "       [8.04, 5.12, 4.77],\n",
       "       [2.74, 8.88, 5.8 ],\n",
       "       [3.04, 6.88, 3.91],\n",
       "       [5.87, 4.41, 8.84],\n",
       "       [8.46, 2.63, 4.91],\n",
       "       [3.74, 6.71, 3.44],\n",
       "       [5.67, 8.05, 6.03],\n",
       "       [8.12, 2.46, 3.87],\n",
       "       [9.4 , 5.31, 5.13],\n",
       "       [3.91, 5.09, 8.82],\n",
       "       [4.26, 5.78, 8.14],\n",
       "       [4.41, 2.66, 5.4 ],\n",
       "       [3.23, 8.3 , 8.64],\n",
       "       [9.25, 8.29, 9.1 ],\n",
       "       [6.08, 2.67, 6.39],\n",
       "       [3.85, 7.71, 5.75]])"
      ]
     },
     "execution_count": 98,
     "metadata": {},
     "output_type": "execute_result"
    }
   ],
   "source": [
    "id_ten = arr[1:,:2]\n",
    "id_ten\n",
    "diem = arr[1:, 2:].astype(float)\n",
    "diem"
   ]
  },
  {
   "cell_type": "code",
   "execution_count": 90,
   "metadata": {},
   "outputs": [
    {
     "data": {
      "text/plain": [
       "array([['F', 'F', 'C+'],\n",
       "       ['C', 'C', 'C+'],\n",
       "       ['F', 'F', 'A'],\n",
       "       ['F', 'A', 'A'],\n",
       "       ['A', 'A', 'C'],\n",
       "       ['F', 'D', 'C'],\n",
       "       ['F', 'F', 'C+'],\n",
       "       ['F', 'F', 'D'],\n",
       "       ['F', 'F', 'D'],\n",
       "       ['B', 'A', 'A'],\n",
       "       ['F', 'D', 'C'],\n",
       "       ['F', 'B', 'D+'],\n",
       "       ['C+', 'B', 'C'],\n",
       "       ['A', 'D', 'F'],\n",
       "       ['B+', 'D+', 'D'],\n",
       "       ['F', 'A', 'C'],\n",
       "       ['F', 'C+', 'F'],\n",
       "       ['C', 'D', 'A'],\n",
       "       ['B+', 'F', 'D'],\n",
       "       ['F', 'C+', 'F'],\n",
       "       ['C', 'B+', 'C'],\n",
       "       ['B+', 'F', 'F'],\n",
       "       ['A', 'D+', 'D+'],\n",
       "       ['F', 'D+', 'A'],\n",
       "       ['D', 'C', 'B+'],\n",
       "       ['D', 'F', 'D+'],\n",
       "       ['F', 'B+', 'A'],\n",
       "       ['A', 'B+', 'A'],\n",
       "       ['C', 'F', 'C'],\n",
       "       ['F', 'B', 'C']], dtype='<U2')"
      ]
     },
     "execution_count": 90,
     "metadata": {},
     "output_type": "execute_result"
    }
   ],
   "source": [
    "def chuyen_doi(diem):\n",
    "    if 8.5 <= diem <= 10:\n",
    "        return 'A'\n",
    "    elif 8.0 <= diem < 8.5:\n",
    "        return 'B+'\n",
    "    elif 7.0 <= diem < 8.0:\n",
    "        return 'B'\n",
    "    elif 6.5 <= diem < 7.0:\n",
    "        return 'C+'\n",
    "    elif 5.5 <= diem < 6.5:\n",
    "        return 'C'\n",
    "    elif 5.0 <= diem < 5.5:\n",
    "        return 'D+'\n",
    "    elif 4.0 <= diem < 5.0:\n",
    "        return 'D'\n",
    "    else:\n",
    "        return 'F'\n",
    "quy_doi = np.vectorize(chuyen_doi)\n",
    "diem_doi = quy_doi(diem)\n",
    "arr_diem = np.array(diem_doi)\n",
    "arr_diem"
   ]
  },
  {
   "cell_type": "code",
   "execution_count": 100,
   "metadata": {},
   "outputs": [
    {
     "data": {
      "text/plain": [
       "array([['1', 'Nguyễn Văn Bình', 'F', 'F', 'C+'],\n",
       "       ['2', 'Lê Thị Na', 'C', 'C', 'C+'],\n",
       "       ['3', 'Trần Văn Thành', 'F', 'F', 'A'],\n",
       "       ['4', 'Phạm Thị Hồng', 'F', 'A', 'A'],\n",
       "       ['5', 'Bùi Văn An', 'A', 'A', 'C'],\n",
       "       ['6', 'Hoàng Thị Lan', 'F', 'D', 'C'],\n",
       "       ['7', 'Vũ Văn Hùng', 'F', 'F', 'C+'],\n",
       "       ['8', 'Đặng Thị Mai', 'F', 'F', 'D'],\n",
       "       ['9', 'Đỗ Văn Hải', 'F', 'F', 'D'],\n",
       "       ['10', 'Ngô Thị Thanh', 'B', 'A', 'A'],\n",
       "       ['11', 'Lương Văn Dũng', 'F', 'D', 'C'],\n",
       "       ['12', 'Mai Thị Hằng', 'F', 'B', 'D+'],\n",
       "       ['13', 'Dương Văn Long', 'C+', 'B', 'C'],\n",
       "       ['14', 'Nguyễn Thị Hà', 'A', 'D', 'F'],\n",
       "       ['15', 'Trần Văn Tuấn', 'B+', 'D+', 'D'],\n",
       "       ['16', 'Lê Văn Phúc', 'F', 'A', 'C'],\n",
       "       ['17', 'Phạm Thị Nhung', 'F', 'C+', 'F'],\n",
       "       ['18', 'Hoàng Văn Nam', 'C', 'D', 'A'],\n",
       "       ['19', 'Bùi Thị Lan', 'B+', 'F', 'D'],\n",
       "       ['20', 'Vũ Thị Thanh', 'F', 'C+', 'F'],\n",
       "       ['21', 'Đặng Văn Hùng', 'C', 'B+', 'C'],\n",
       "       ['22', 'Đỗ Thị Hồng', 'B+', 'F', 'F'],\n",
       "       ['23', 'Ngô Văn Thành', 'A', 'D+', 'D+'],\n",
       "       ['24', 'Lương Thị Mai', 'F', 'D+', 'A'],\n",
       "       ['25', 'Mai Văn Dũng', 'D', 'C', 'B+'],\n",
       "       ['26', 'Dương Thị Hằng', 'D', 'F', 'D+'],\n",
       "       ['27', 'Nguyễn Văn Long', 'F', 'B+', 'A'],\n",
       "       ['28', 'Trần Thị Hà', 'A', 'B+', 'A'],\n",
       "       ['29', 'Lê Văn Tuấn', 'C', 'F', 'C'],\n",
       "       ['30', 'Phạm Thị Phúc', 'F', 'B', 'C']], dtype='<U15')"
      ]
     },
     "execution_count": 100,
     "metadata": {},
     "output_type": "execute_result"
    }
   ],
   "source": [
    "ket_hop = np.hstack([id_ten,arr_diem])\n",
    "ket_hop"
   ]
  },
  {
   "cell_type": "code",
   "execution_count": null,
   "metadata": {},
   "outputs": [],
   "source": [
    "hp1 = diem[:,0]\n",
    "hp2 = diem[:,1]\n",
    "hp3 = diem[:,2] # lấy toàn bộ các hàng trong mảng\n",
    "\n"
   ]
  },
  {
   "cell_type": "code",
   "execution_count": 121,
   "metadata": {},
   "outputs": [
    {
     "name": "stdout",
     "output_type": "stream",
     "text": [
      "tổng điểm hp1 :154.93 , tổng điểm hp2 :170.27, tổng điểm hp3 :188.78\n",
      "điểm trung bình hp1 :5.1643333333333326 , điểm trung bình hp2 :5.675666666666667, điểm trung bình hp3 : 6.292666666666666\n",
      "độ lệch chuẩn hp1 :2.4078519934211533, độ lệch chuẩn hp2 : 2.2494765070023637 , độ lệch chuẩn hp3 : 1.8082292135923723\n"
     ]
    }
   ],
   "source": [
    "sum_hp1 = np.sum(hp1)\n",
    "sum_hp2 = np.sum(hp2)\n",
    "sum_hp3 = np.sum(hp3)\n",
    "mean_hp1 = np.mean(hp1)\n",
    "mean_hp2 = np.mean(hp2)\n",
    "mean_hp3 = np.mean(hp3)\n",
    "std_hp1 = np.std(hp1)\n",
    "std_hp2 = np.std(hp2)\n",
    "std_hp3 = np.std(hp3)\n",
    "print(f\"tổng điểm hp1 :{np.round((sum_hp1),2)} , tổng điểm hp2 :{sum_hp2}, tổng điểm hp3 :{sum_hp3}\")\n",
    "print(f\"điểm trung bình hp1 :{mean_hp1} , điểm trung bình hp2 :{mean_hp2}, điểm trung bình hp3 : {mean_hp3}\")\n",
    "print(f\"độ lệch chuẩn hp1 :{std_hp1}, độ lệch chuẩn hp2 : {std_hp2} , độ lệch chuẩn hp3 : {std_hp3}\")\n",
    "\n"
   ]
  },
  {
   "cell_type": "code",
   "execution_count": 123,
   "metadata": {},
   "outputs": [
    {
     "name": "stdout",
     "output_type": "stream",
     "text": [
      "Điểm A: 15 sinh viên\n",
      "Điểm B: 4 sinh viên\n",
      "Điểm B+: 7 sinh viên\n",
      "Điểm C: 14 sinh viên\n",
      "Điểm C+: 6 sinh viên\n",
      "Điểm D: 10 sinh viên\n",
      "Điểm D+: 6 sinh viên\n",
      "Điểm F: 28 sinh viên\n"
     ]
    }
   ],
   "source": [
    "unique,counts = np.unique(arr_diem,return_counts=True)\n",
    "diem_chu = dict(zip(unique,counts))\n",
    "for grade, count in diem_chu.items():\n",
    "    print(f\"Điểm {grade}: {count} sinh viên\")\n"
   ]
  }
 ],
 "metadata": {
  "kernelspec": {
   "display_name": "Python 3",
   "language": "python",
   "name": "python3"
  },
  "language_info": {
   "codemirror_mode": {
    "name": "ipython",
    "version": 3
   },
   "file_extension": ".py",
   "mimetype": "text/x-python",
   "name": "python",
   "nbconvert_exporter": "python",
   "pygments_lexer": "ipython3",
   "version": "3.11.9"
  }
 },
 "nbformat": 4,
 "nbformat_minor": 2
}
